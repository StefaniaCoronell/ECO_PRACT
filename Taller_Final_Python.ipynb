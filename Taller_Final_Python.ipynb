{
  "nbformat": 4,
  "nbformat_minor": 0,
  "metadata": {
    "colab": {
      "name": "Taller_Final_Python",
      "provenance": [],
      "collapsed_sections": [],
      "toc_visible": true
    },
    "kernelspec": {
      "name": "python3",
      "display_name": "Python 3"
    }
  },
  "cells": [
    {
      "cell_type": "markdown",
      "metadata": {
        "id": "I9YxEZc4hssG"
      },
      "source": [
        "# **TALLER FINAL DE** **PYTHON**"
      ]
    },
    {
      "cell_type": "markdown",
      "metadata": {
        "id": "8mnzfNU_h97M"
      },
      "source": [
        "# **AUTORES:**\n",
        "\n",
        "\n",
        "*   Stefania Coronell \n",
       
        "\n",
        "\n",
        "\n",
        "\n",
        "\n"
      ]
    },
    {
      "cell_type": "markdown",
      "metadata": {
        "id": "igkA7u9hihw-"
      },
      "source": [
        "# Carga de datos"
      ]
    },
    {
      "cell_type": "code",
      "metadata": {
        "id": "NmUnVXmQZD-E",
        "outputId": "eb54e1d6-146b-419c-b32d-18501083d8bf",
        "colab": {
          "base_uri": "https://localhost:8080/",
          "height": 463
        }
      },
      "source": [
        "#Online Retail Data Set\n",
        "! wget https://www.dropbox.com/s/yqfxvfz2y2e74il/Online%20Retail.xlsx"
      ],
      "execution_count": null,
      "outputs": [
        {
          "output_type": "stream",
          "text": [
            "--2020-09-30 12:52:43--  https://www.dropbox.com/s/yqfxvfz2y2e74il/Online%20Retail.xlsx\n",
            "Resolving www.dropbox.com (www.dropbox.com)... 162.125.9.1, 2620:100:601d:1::a27d:501\n",
            "Connecting to www.dropbox.com (www.dropbox.com)|162.125.9.1|:443... connected.\n",
            "HTTP request sent, awaiting response... 301 Moved Permanently\n",
            "Location: /s/raw/yqfxvfz2y2e74il/Online%20Retail.xlsx [following]\n",
            "--2020-09-30 12:52:43--  https://www.dropbox.com/s/raw/yqfxvfz2y2e74il/Online%20Retail.xlsx\n",
            "Reusing existing connection to www.dropbox.com:443.\n",
            "HTTP request sent, awaiting response... 302 Found\n",
            "Location: https://ucd85c288b33368c458041308454.dl.dropboxusercontent.com/cd/0/inline/BAWqATBLNGPJzrXOXgfJLyfDzbWCwubxCkKOOg9Q8SQ-RQZYJ56-1UJUYIyCOVNQrG_Nd27I5Q3Dc-IaHfB9WliyieJL4wJ7ud78ETKdW0AkiPXTqHHxm7m81WM_VPQVwAk/file# [following]\n",
            "--2020-09-30 12:52:43--  https://ucd85c288b33368c458041308454.dl.dropboxusercontent.com/cd/0/inline/BAWqATBLNGPJzrXOXgfJLyfDzbWCwubxCkKOOg9Q8SQ-RQZYJ56-1UJUYIyCOVNQrG_Nd27I5Q3Dc-IaHfB9WliyieJL4wJ7ud78ETKdW0AkiPXTqHHxm7m81WM_VPQVwAk/file\n",
            "Resolving ucd85c288b33368c458041308454.dl.dropboxusercontent.com (ucd85c288b33368c458041308454.dl.dropboxusercontent.com)... 162.125.9.15, 2620:100:601f:15::a27d:90f\n",
            "Connecting to ucd85c288b33368c458041308454.dl.dropboxusercontent.com (ucd85c288b33368c458041308454.dl.dropboxusercontent.com)|162.125.9.15|:443... connected.\n",
            "HTTP request sent, awaiting response... 302 Found\n",
            "Location: /cd/0/inline2/BAU9W9s0VcME8eAUA6DILYfubOjdz7k8UKWp-A_vAVe5HdtIBZAT00lcBAvYzdIh5ovUcBdfjZvQeiLS1YQug3K93lxY-YVGPSoEq00AbdzJlYjz36OXybVJSrYCRwDoasBCZ-BL0hvw1PDsxFLFcmtlGmlIl0kjTY0ygkQL0O2eIQjeQ4Bg6wj-sp3j0zyemr1QPLu2zGEXRN8gIIlJs2PIMXTrSLmIlIdmW0xUZPockUqmA1WTDx897O4s0BARWPfBuT7F4NBG1vM9r2vVEIZGGwDC06_YgEja4qXHoubu2E5GYbNtlFl0_nOOIKjtqseqxVEsAFyFKRgkDqWHOcmAPaOvDa_zBRLOCLtQxj-Fnw/file [following]\n",
            "--2020-09-30 12:52:44--  https://ucd85c288b33368c458041308454.dl.dropboxusercontent.com/cd/0/inline2/BAU9W9s0VcME8eAUA6DILYfubOjdz7k8UKWp-A_vAVe5HdtIBZAT00lcBAvYzdIh5ovUcBdfjZvQeiLS1YQug3K93lxY-YVGPSoEq00AbdzJlYjz36OXybVJSrYCRwDoasBCZ-BL0hvw1PDsxFLFcmtlGmlIl0kjTY0ygkQL0O2eIQjeQ4Bg6wj-sp3j0zyemr1QPLu2zGEXRN8gIIlJs2PIMXTrSLmIlIdmW0xUZPockUqmA1WTDx897O4s0BARWPfBuT7F4NBG1vM9r2vVEIZGGwDC06_YgEja4qXHoubu2E5GYbNtlFl0_nOOIKjtqseqxVEsAFyFKRgkDqWHOcmAPaOvDa_zBRLOCLtQxj-Fnw/file\n",
            "Reusing existing connection to ucd85c288b33368c458041308454.dl.dropboxusercontent.com:443.\n",
            "HTTP request sent, awaiting response... 200 OK\n",
            "Length: 23715344 (23M) [application/vnd.openxmlformats-officedocument.spreadsheetml.sheet]\n",
            "Saving to: ‘Online Retail.xlsx’\n",
            "\n",
            "Online Retail.xlsx  100%[===================>]  22.62M  76.2MB/s    in 0.3s    \n",
            "\n",
            "2020-09-30 12:52:45 (76.2 MB/s) - ‘Online Retail.xlsx’ saved [23715344/23715344]\n",
            "\n"
          ],
          "name": "stdout"
        }
      ]
    },
    {
      "cell_type": "code",
      "metadata": {
        "id": "Q2QQZIvB-B8I"
      },
      "source": [
        ""
      ],
      "execution_count": null,
      "outputs": []
    },
    {
      "cell_type": "markdown",
      "metadata": {
        "id": "zm8ZGTbI-6oB"
      },
      "source": [
        "# Limpieza de datos"
      ]
    },
    {
      "cell_type": "code",
      "metadata": {
        "id": "32tKgdTVaBp6",
        "outputId": "02256401-c1ba-4f74-f032-8ca9fd5b52d5",
        "colab": {
          "base_uri": "https://localhost:8080/",
          "height": 406
        }
      },
      "source": [
        "import numpy as np\n",
        "import pandas as pd\n",
        "#df_retail = pd.read_excel('Online Retail.xlsx',parse_dates=True)\n",
        "df_retail = pd.read_excel('Online Retail.xlsx')\n",
        "df_retail = df_retail.dropna()\n",
        "df_retail = df_retail.loc[df_retail['Quantity'] > 0]\n",
        "df_retail['Año-Mes']=df_retail['InvoiceDate'].dt.to_period('M')\n",
        "df_retail['Año-Trimestre']=df_retail['InvoiceDate'].dt.year.astype(str) + '-Q' + df_retail['InvoiceDate'].dt.quarter.astype(str)\n",
        "df_retail['Total'] = df_retail['Quantity'] * df_retail['UnitPrice']\n",
        "df_retail"
      ],
      "execution_count": null,
      "outputs": [
        {
          "output_type": "execute_result",
          "data": {
            "text/html": [
              "<div>\n",
              "<style scoped>\n",
              "    .dataframe tbody tr th:only-of-type {\n",
              "        vertical-align: middle;\n",
              "    }\n",
              "\n",
              "    .dataframe tbody tr th {\n",
              "        vertical-align: top;\n",
              "    }\n",
              "\n",
              "    .dataframe thead th {\n",
              "        text-align: right;\n",
              "    }\n",
              "</style>\n",
              "<table border=\"1\" class=\"dataframe\">\n",
              "  <thead>\n",
              "    <tr style=\"text-align: right;\">\n",
              "      <th></th>\n",
              "      <th>InvoiceNo</th>\n",
              "      <th>StockCode</th>\n",
              "      <th>Description</th>\n",
              "      <th>Quantity</th>\n",
              "      <th>InvoiceDate</th>\n",
              "      <th>UnitPrice</th>\n",
              "      <th>CustomerID</th>\n",
              "      <th>Country</th>\n",
              "      <th>Año-Mes</th>\n",
              "      <th>Año-Trimestre</th>\n",
              "      <th>Total</th>\n",
              "    </tr>\n",
              "  </thead>\n",
              "  <tbody>\n",
              "    <tr>\n",
              "      <th>0</th>\n",
              "      <td>536365</td>\n",
              "      <td>85123A</td>\n",
              "      <td>WHITE HANGING HEART T-LIGHT HOLDER</td>\n",
              "      <td>6</td>\n",
              "      <td>2010-12-01 08:26:00</td>\n",
              "      <td>2.55</td>\n",
              "      <td>17850.0</td>\n",
              "      <td>United Kingdom</td>\n",
              "      <td>2010-12</td>\n",
              "      <td>2010-Q4</td>\n",
              "      <td>15.30</td>\n",
              "    </tr>\n",
              "    <tr>\n",
              "      <th>1</th>\n",
              "      <td>536365</td>\n",
              "      <td>71053</td>\n",
              "      <td>WHITE METAL LANTERN</td>\n",
              "      <td>6</td>\n",
              "      <td>2010-12-01 08:26:00</td>\n",
              "      <td>3.39</td>\n",
              "      <td>17850.0</td>\n",
              "      <td>United Kingdom</td>\n",
              "      <td>2010-12</td>\n",
              "      <td>2010-Q4</td>\n",
              "      <td>20.34</td>\n",
              "    </tr>\n",
              "    <tr>\n",
              "      <th>2</th>\n",
              "      <td>536365</td>\n",
              "      <td>84406B</td>\n",
              "      <td>CREAM CUPID HEARTS COAT HANGER</td>\n",
              "      <td>8</td>\n",
              "      <td>2010-12-01 08:26:00</td>\n",
              "      <td>2.75</td>\n",
              "      <td>17850.0</td>\n",
              "      <td>United Kingdom</td>\n",
              "      <td>2010-12</td>\n",
              "      <td>2010-Q4</td>\n",
              "      <td>22.00</td>\n",
              "    </tr>\n",
              "    <tr>\n",
              "      <th>3</th>\n",
              "      <td>536365</td>\n",
              "      <td>84029G</td>\n",
              "      <td>KNITTED UNION FLAG HOT WATER BOTTLE</td>\n",
              "      <td>6</td>\n",
              "      <td>2010-12-01 08:26:00</td>\n",
              "      <td>3.39</td>\n",
              "      <td>17850.0</td>\n",
              "      <td>United Kingdom</td>\n",
              "      <td>2010-12</td>\n",
              "      <td>2010-Q4</td>\n",
              "      <td>20.34</td>\n",
              "    </tr>\n",
              "    <tr>\n",
              "      <th>4</th>\n",
              "      <td>536365</td>\n",
              "      <td>84029E</td>\n",
              "      <td>RED WOOLLY HOTTIE WHITE HEART.</td>\n",
              "      <td>6</td>\n",
              "      <td>2010-12-01 08:26:00</td>\n",
              "      <td>3.39</td>\n",
              "      <td>17850.0</td>\n",
              "      <td>United Kingdom</td>\n",
              "      <td>2010-12</td>\n",
              "      <td>2010-Q4</td>\n",
              "      <td>20.34</td>\n",
              "    </tr>\n",
              "    <tr>\n",
              "      <th>...</th>\n",
              "      <td>...</td>\n",
              "      <td>...</td>\n",
              "      <td>...</td>\n",
              "      <td>...</td>\n",
              "      <td>...</td>\n",
              "      <td>...</td>\n",
              "      <td>...</td>\n",
              "      <td>...</td>\n",
              "      <td>...</td>\n",
              "      <td>...</td>\n",
              "      <td>...</td>\n",
              "    </tr>\n",
              "    <tr>\n",
              "      <th>541904</th>\n",
              "      <td>581587</td>\n",
              "      <td>22613</td>\n",
              "      <td>PACK OF 20 SPACEBOY NAPKINS</td>\n",
              "      <td>12</td>\n",
              "      <td>2011-12-09 12:50:00</td>\n",
              "      <td>0.85</td>\n",
              "      <td>12680.0</td>\n",
              "      <td>France</td>\n",
              "      <td>2011-12</td>\n",
              "      <td>2011-Q4</td>\n",
              "      <td>10.20</td>\n",
              "    </tr>\n",
              "    <tr>\n",
              "      <th>541905</th>\n",
              "      <td>581587</td>\n",
              "      <td>22899</td>\n",
              "      <td>CHILDREN'S APRON DOLLY GIRL</td>\n",
              "      <td>6</td>\n",
              "      <td>2011-12-09 12:50:00</td>\n",
              "      <td>2.10</td>\n",
              "      <td>12680.0</td>\n",
              "      <td>France</td>\n",
              "      <td>2011-12</td>\n",
              "      <td>2011-Q4</td>\n",
              "      <td>12.60</td>\n",
              "    </tr>\n",
              "    <tr>\n",
              "      <th>541906</th>\n",
              "      <td>581587</td>\n",
              "      <td>23254</td>\n",
              "      <td>CHILDRENS CUTLERY DOLLY GIRL</td>\n",
              "      <td>4</td>\n",
              "      <td>2011-12-09 12:50:00</td>\n",
              "      <td>4.15</td>\n",
              "      <td>12680.0</td>\n",
              "      <td>France</td>\n",
              "      <td>2011-12</td>\n",
              "      <td>2011-Q4</td>\n",
              "      <td>16.60</td>\n",
              "    </tr>\n",
              "    <tr>\n",
              "      <th>541907</th>\n",
              "      <td>581587</td>\n",
              "      <td>23255</td>\n",
              "      <td>CHILDRENS CUTLERY CIRCUS PARADE</td>\n",
              "      <td>4</td>\n",
              "      <td>2011-12-09 12:50:00</td>\n",
              "      <td>4.15</td>\n",
              "      <td>12680.0</td>\n",
              "      <td>France</td>\n",
              "      <td>2011-12</td>\n",
              "      <td>2011-Q4</td>\n",
              "      <td>16.60</td>\n",
              "    </tr>\n",
              "    <tr>\n",
              "      <th>541908</th>\n",
              "      <td>581587</td>\n",
              "      <td>22138</td>\n",
              "      <td>BAKING SET 9 PIECE RETROSPOT</td>\n",
              "      <td>3</td>\n",
              "      <td>2011-12-09 12:50:00</td>\n",
              "      <td>4.95</td>\n",
              "      <td>12680.0</td>\n",
              "      <td>France</td>\n",
              "      <td>2011-12</td>\n",
              "      <td>2011-Q4</td>\n",
              "      <td>14.85</td>\n",
              "    </tr>\n",
              "  </tbody>\n",
              "</table>\n",
              "<p>397924 rows × 11 columns</p>\n",
              "</div>"
            ],
            "text/plain": [
              "       InvoiceNo StockCode  ... Año-Trimestre  Total\n",
              "0         536365    85123A  ...       2010-Q4  15.30\n",
              "1         536365     71053  ...       2010-Q4  20.34\n",
              "2         536365    84406B  ...       2010-Q4  22.00\n",
              "3         536365    84029G  ...       2010-Q4  20.34\n",
              "4         536365    84029E  ...       2010-Q4  20.34\n",
              "...          ...       ...  ...           ...    ...\n",
              "541904    581587     22613  ...       2011-Q4  10.20\n",
              "541905    581587     22899  ...       2011-Q4  12.60\n",
              "541906    581587     23254  ...       2011-Q4  16.60\n",
              "541907    581587     23255  ...       2011-Q4  16.60\n",
              "541908    581587     22138  ...       2011-Q4  14.85\n",
              "\n",
              "[397924 rows x 11 columns]"
            ]
          },
          "metadata": {
            "tags": []
          },
          "execution_count": 2
        }
      ]
    },
    {
      "cell_type": "markdown",
      "metadata": {
        "id": "LB-AIbaoi4Ei"
      },
      "source": [
        "# Desarrollo"
      ]
    },
    {
      "cell_type": "markdown",
      "metadata": {
        "id": "RpHOVyRq_BgT"
      },
      "source": [
        "1. ¿Cuál es el producto más vendido por mes?"
      ]
    },
    {
      "cell_type": "code",
      "metadata": {
        "id": "NOvdAlT9Tej9",
        "outputId": "083b53c5-b302-4e8a-f15d-f2be18c6bec3",
        "colab": {
          "base_uri": "https://localhost:8080/",
          "height": 437
        }
      },
      "source": [
        "df_producto = df_retail.groupby(['Año-Mes','Description'])['Quantity'].sum().reset_index()\n",
        "df_producto.sort_values(by=['Año-Mes','Quantity'], ascending=False, inplace=True)\n",
        "\n",
        "df_producto.loc[df_producto.groupby([\"Año-Mes\"])[\"Quantity\"].idxmax()]"
      ],
      "execution_count": null,
      "outputs": [
        {
          "output_type": "execute_result",
          "data": {
            "text/html": [
              "<div>\n",
              "<style scoped>\n",
              "    .dataframe tbody tr th:only-of-type {\n",
              "        vertical-align: middle;\n",
              "    }\n",
              "\n",
              "    .dataframe tbody tr th {\n",
              "        vertical-align: top;\n",
              "    }\n",
              "\n",
              "    .dataframe thead th {\n",
              "        text-align: right;\n",
              "    }\n",
              "</style>\n",
              "<table border=\"1\" class=\"dataframe\">\n",
              "  <thead>\n",
              "    <tr style=\"text-align: right;\">\n",
              "      <th></th>\n",
              "      <th>Año-Mes</th>\n",
              "      <th>Description</th>\n",
              "      <th>Quantity</th>\n",
              "    </tr>\n",
              "  </thead>\n",
              "  <tbody>\n",
              "    <tr>\n",
              "      <th>2383</th>\n",
              "      <td>2010-12</td>\n",
              "      <td>WORLD WAR 2 GLIDERS ASSTD DESIGNS</td>\n",
              "      <td>5139</td>\n",
              "    </tr>\n",
              "    <tr>\n",
              "      <th>3526</th>\n",
              "      <td>2011-01</td>\n",
              "      <td>MEDIUM CERAMIC TOP STORAGE JAR</td>\n",
              "      <td>74215</td>\n",
              "    </tr>\n",
              "    <tr>\n",
              "      <th>5147</th>\n",
              "      <td>2011-02</td>\n",
              "      <td>EMPIRE DESIGN ROSETTE</td>\n",
              "      <td>3986</td>\n",
              "    </tr>\n",
              "    <tr>\n",
              "      <th>7695</th>\n",
              "      <td>2011-03</td>\n",
              "      <td>JUMBO BAG RED RETROSPOT</td>\n",
              "      <td>4924</td>\n",
              "    </tr>\n",
              "    <tr>\n",
              "      <th>11070</th>\n",
              "      <td>2011-04</td>\n",
              "      <td>WORLD WAR 2 GLIDERS ASSTD DESIGNS</td>\n",
              "      <td>10224</td>\n",
              "    </tr>\n",
              "    <tr>\n",
              "      <th>13054</th>\n",
              "      <td>2011-05</td>\n",
              "      <td>SMALL POPCORN HOLDER</td>\n",
              "      <td>6738</td>\n",
              "    </tr>\n",
              "    <tr>\n",
              "      <th>14440</th>\n",
              "      <td>2011-06</td>\n",
              "      <td>JUMBO BAG RED RETROSPOT</td>\n",
              "      <td>3529</td>\n",
              "    </tr>\n",
              "    <tr>\n",
              "      <th>16588</th>\n",
              "      <td>2011-07</td>\n",
              "      <td>GIRLS ALPHABET IRON ON PATCHES</td>\n",
              "      <td>4896</td>\n",
              "    </tr>\n",
              "    <tr>\n",
              "      <th>18249</th>\n",
              "      <td>2011-08</td>\n",
              "      <td>ASSORTED COLOUR BIRD ORNAMENT</td>\n",
              "      <td>6425</td>\n",
              "    </tr>\n",
              "    <tr>\n",
              "      <th>21663</th>\n",
              "      <td>2011-09</td>\n",
              "      <td>JUMBO BAG RED RETROSPOT</td>\n",
              "      <td>4177</td>\n",
              "    </tr>\n",
              "    <tr>\n",
              "      <th>25703</th>\n",
              "      <td>2011-10</td>\n",
              "      <td>WORLD WAR 2 GLIDERS ASSTD DESIGNS</td>\n",
              "      <td>8174</td>\n",
              "    </tr>\n",
              "    <tr>\n",
              "      <th>25940</th>\n",
              "      <td>2011-11</td>\n",
              "      <td>ASSTD DESIGN 3D PAPER STICKERS</td>\n",
              "      <td>12551</td>\n",
              "    </tr>\n",
              "    <tr>\n",
              "      <th>29751</th>\n",
              "      <td>2011-12</td>\n",
              "      <td>PAPER CRAFT , LITTLE BIRDIE</td>\n",
              "      <td>80995</td>\n",
              "    </tr>\n",
              "  </tbody>\n",
              "</table>\n",
              "</div>"
            ],
            "text/plain": [
              "       Año-Mes                        Description  Quantity\n",
              "2383   2010-12  WORLD WAR 2 GLIDERS ASSTD DESIGNS      5139\n",
              "3526   2011-01     MEDIUM CERAMIC TOP STORAGE JAR     74215\n",
              "5147   2011-02              EMPIRE DESIGN ROSETTE      3986\n",
              "7695   2011-03            JUMBO BAG RED RETROSPOT      4924\n",
              "11070  2011-04  WORLD WAR 2 GLIDERS ASSTD DESIGNS     10224\n",
              "13054  2011-05               SMALL POPCORN HOLDER      6738\n",
              "14440  2011-06            JUMBO BAG RED RETROSPOT      3529\n",
              "16588  2011-07    GIRLS ALPHABET IRON ON PATCHES       4896\n",
              "18249  2011-08      ASSORTED COLOUR BIRD ORNAMENT      6425\n",
              "21663  2011-09            JUMBO BAG RED RETROSPOT      4177\n",
              "25703  2011-10  WORLD WAR 2 GLIDERS ASSTD DESIGNS      8174\n",
              "25940  2011-11     ASSTD DESIGN 3D PAPER STICKERS     12551\n",
              "29751  2011-12        PAPER CRAFT , LITTLE BIRDIE     80995"
            ]
          },
          "metadata": {
            "tags": []
          },
          "execution_count": 86
        }
      ]
    },
    {
      "cell_type": "markdown",
      "metadata": {
        "id": "ONKzmhnoHY_d"
      },
      "source": [
        "2. ¿Cuál es el total de ingresos por concepto de ventas de cada trimestre?\n"
      ]
    },
    {
      "cell_type": "code",
      "metadata": {
        "id": "PznZOshMaLKv",
        "outputId": "3ff72cd5-db51-444d-ef41-6810649e0c67",
        "colab": {
          "base_uri": "https://localhost:8080/",
          "height": 257
        }
      },
      "source": [
        "\n",
        "# df_ingresos = df_retail.groupby(by=['Año-Trimestre','Total']).sum()\n",
        "# df_ingresos.sort_values(by=['Total'], ascending= False)\n",
        "\n",
        "pd.pivot_table(df_retail,index=['Año-Trimestre'],values=['Total'],aggfunc=[sum])"
      ],
      "execution_count": null,
      "outputs": [
        {
          "output_type": "execute_result",
          "data": {
            "text/html": [
              "<div>\n",
              "<style scoped>\n",
              "    .dataframe tbody tr th:only-of-type {\n",
              "        vertical-align: middle;\n",
              "    }\n",
              "\n",
              "    .dataframe tbody tr th {\n",
              "        vertical-align: top;\n",
              "    }\n",
              "\n",
              "    .dataframe thead tr th {\n",
              "        text-align: left;\n",
              "    }\n",
              "\n",
              "    .dataframe thead tr:last-of-type th {\n",
              "        text-align: right;\n",
              "    }\n",
              "</style>\n",
              "<table border=\"1\" class=\"dataframe\">\n",
              "  <thead>\n",
              "    <tr>\n",
              "      <th></th>\n",
              "      <th>sum</th>\n",
              "    </tr>\n",
              "    <tr>\n",
              "      <th></th>\n",
              "      <th>Total</th>\n",
              "    </tr>\n",
              "    <tr>\n",
              "      <th>Año-Trimestre</th>\n",
              "      <th></th>\n",
              "    </tr>\n",
              "  </thead>\n",
              "  <tbody>\n",
              "    <tr>\n",
              "      <th>2010-Q4</th>\n",
              "      <td>572713.890</td>\n",
              "    </tr>\n",
              "    <tr>\n",
              "      <th>2011-Q1</th>\n",
              "      <td>1612083.150</td>\n",
              "    </tr>\n",
              "    <tr>\n",
              "      <th>2011-Q2</th>\n",
              "      <td>1809008.611</td>\n",
              "    </tr>\n",
              "    <tr>\n",
              "      <th>2011-Q3</th>\n",
              "      <td>2198273.293</td>\n",
              "    </tr>\n",
              "    <tr>\n",
              "      <th>2011-Q4</th>\n",
              "      <td>2719328.960</td>\n",
              "    </tr>\n",
              "  </tbody>\n",
              "</table>\n",
              "</div>"
            ],
            "text/plain": [
              "                       sum\n",
              "                     Total\n",
              "Año-Trimestre             \n",
              "2010-Q4         572713.890\n",
              "2011-Q1        1612083.150\n",
              "2011-Q2        1809008.611\n",
              "2011-Q3        2198273.293\n",
              "2011-Q4        2719328.960"
            ]
          },
          "metadata": {
            "tags": []
          },
          "execution_count": 92
        }
      ]
    },
    {
      "cell_type": "markdown",
      "metadata": {
        "id": "AjRVjdRv-I8R"
      },
      "source": [
        "3. ¿Cuál es el cliente que más dinero ha gastado en una sola compra?"
      ]
    },
    {
      "cell_type": "code",
      "metadata": {
        "id": "S6R3BlsvaMPX",
        "outputId": "072e7647-165f-44ce-a50d-913441043ddc",
        "colab": {
          "base_uri": "https://localhost:8080/",
          "height": 77
        }
      },
      "source": [
        "#Se agrupa los valores por el cliente y el código de la factura\n",
        "df_cliente = df_retail.groupby(['CustomerID','InvoiceNo'])['Total'].sum().reset_index()\n",
        "\n",
        "# Se ordena la base de datos para obtener el cliente en cuya compra ha gastado más dinero\n",
        "df_cliente.sort_values(by=['Total'], ascending=False, inplace=True)\n",
        "df_retail[df_retail[\"Total\"]==168469.60]"
      ],
      "execution_count": null,
      "outputs": [
        {
          "output_type": "execute_result",
          "data": {
            "text/html": [
              "<div>\n",
              "<style scoped>\n",
              "    .dataframe tbody tr th:only-of-type {\n",
              "        vertical-align: middle;\n",
              "    }\n",
              "\n",
              "    .dataframe tbody tr th {\n",
              "        vertical-align: top;\n",
              "    }\n",
              "\n",
              "    .dataframe thead th {\n",
              "        text-align: right;\n",
              "    }\n",
              "</style>\n",
              "<table border=\"1\" class=\"dataframe\">\n",
              "  <thead>\n",
              "    <tr style=\"text-align: right;\">\n",
              "      <th></th>\n",
              "      <th>InvoiceNo</th>\n",
              "      <th>StockCode</th>\n",
              "      <th>Description</th>\n",
              "      <th>Quantity</th>\n",
              "      <th>InvoiceDate</th>\n",
              "      <th>UnitPrice</th>\n",
              "      <th>CustomerID</th>\n",
              "      <th>Country</th>\n",
              "      <th>Año-Mes</th>\n",
              "      <th>Año-Trimestre</th>\n",
              "      <th>Total</th>\n",
              "      <th>Year</th>\n",
              "      <th>Month</th>\n",
              "      <th>Fecha</th>\n",
              "    </tr>\n",
              "  </thead>\n",
              "  <tbody>\n",
              "    <tr>\n",
              "      <th>540421</th>\n",
              "      <td>581483</td>\n",
              "      <td>23843</td>\n",
              "      <td>PAPER CRAFT , LITTLE BIRDIE</td>\n",
              "      <td>80995</td>\n",
              "      <td>2011-12-09 09:15:00</td>\n",
              "      <td>2.08</td>\n",
              "      <td>16446.0</td>\n",
              "      <td>United Kingdom</td>\n",
              "      <td>2011-12</td>\n",
              "      <td>2011-Q4</td>\n",
              "      <td>168469.6</td>\n",
              "      <td>2011</td>\n",
              "      <td>12</td>\n",
              "      <td>2011-12</td>\n",
              "    </tr>\n",
              "  </tbody>\n",
              "</table>\n",
              "</div>"
            ],
            "text/plain": [
              "       InvoiceNo StockCode                  Description  ...  Year Month    Fecha\n",
              "540421    581483     23843  PAPER CRAFT , LITTLE BIRDIE  ...  2011    12  2011-12\n",
              "\n",
              "[1 rows x 14 columns]"
            ]
          },
          "metadata": {
            "tags": []
          },
          "execution_count": 95
        }
      ]
    },
    {
      "cell_type": "markdown",
      "metadata": {
        "id": "oHYTsA_SfrrZ"
      },
      "source": [
        "4. ¿Cuál es el producto más barato de toda la tienda?\n"
      ]
    },
    {
      "cell_type": "code",
      "metadata": {
        "id": "2ZzXmL-uBIn9",
        "outputId": "7c488ed0-f38b-4eb8-832a-10d74e473f67",
        "colab": {
          "base_uri": "https://localhost:8080/",
          "height": 107
        }
      },
      "source": [
        "mas_economicos=pd.pivot_table(df_retail,index=[\"Description\"],values=[\"UnitPrice\"])\n",
        "mas_barato = mas_economicos.sort_values(by=\"UnitPrice\", ascending=True).head(1)\n",
        "mas_barato"
      ],
      "execution_count": null,
      "outputs": [
        {
          "output_type": "execute_result",
          "data": {
            "text/html": [
              "<div>\n",
              "<style scoped>\n",
              "    .dataframe tbody tr th:only-of-type {\n",
              "        vertical-align: middle;\n",
              "    }\n",
              "\n",
              "    .dataframe tbody tr th {\n",
              "        vertical-align: top;\n",
              "    }\n",
              "\n",
              "    .dataframe thead th {\n",
              "        text-align: right;\n",
              "    }\n",
              "</style>\n",
              "<table border=\"1\" class=\"dataframe\">\n",
              "  <thead>\n",
              "    <tr style=\"text-align: right;\">\n",
              "      <th></th>\n",
              "      <th>UnitPrice</th>\n",
              "    </tr>\n",
              "    <tr>\n",
              "      <th>Description</th>\n",
              "      <th></th>\n",
              "    </tr>\n",
              "  </thead>\n",
              "  <tbody>\n",
              "    <tr>\n",
              "      <th>PADS TO MATCH ALL CUSHIONS</th>\n",
              "      <td>0.00075</td>\n",
              "    </tr>\n",
              "  </tbody>\n",
              "</table>\n",
              "</div>"
            ],
            "text/plain": [
              "                            UnitPrice\n",
              "Description                          \n",
              "PADS TO MATCH ALL CUSHIONS    0.00075"
            ]
          },
          "metadata": {
            "tags": []
          },
          "execution_count": 3
        }
      ]
    },
    {
      "cell_type": "markdown",
      "metadata": {
        "id": "jEZfviHzf7WI"
      },
      "source": [
        "5. ¿Cuál es el promedio de ingresos por concepto de ventas mensual?\n",
        "\n"
      ]
    },
    {
      "cell_type": "code",
      "metadata": {
        "id": "qfVQn1cgUni4",
        "outputId": "ffb96f39-30ec-4f20-a3dd-3a1d3d92fa1d",
        "colab": {
          "base_uri": "https://localhost:8080/",
          "height": 283
        }
      },
      "source": [
        "df_ventasprom_mes=df_retail.groupby('Año-Mes')['Total'].mean()\n",
        "df_ventasprom_mes\n"
      ],
      "execution_count": null,
      "outputs": [
        {
          "output_type": "execute_result",
          "data": {
            "text/plain": [
              "Año-Mes\n",
              "2010-12    21.892733\n",
              "2011-01    26.820132\n",
              "2011-02    22.437643\n",
              "2011-03    21.911939\n",
              "2011-04    20.720737\n",
              "2011-05    23.959980\n",
              "2011-06    24.322740\n",
              "2011-07    22.368920\n",
              "2011-08    23.890123\n",
              "2011-09    23.803107\n",
              "2011-10    20.972189\n",
              "2011-11    18.000114\n",
              "2011-12    29.946416\n",
              "Freq: M, Name: Total, dtype: float64"
            ]
          },
          "metadata": {
            "tags": []
          },
          "execution_count": 74
        }
      ]
    },
    {
      "cell_type": "markdown",
      "metadata": {
        "id": "POw05TgYT5Vr"
      },
      "source": [
        "6. ¿Cuál es el producto más vendido por trimestre por factura?\n"
      ]
    },
    {
      "cell_type": "code",
      "metadata": {
        "id": "mNHUIzcSHStE",
        "outputId": "f0cb187b-0d50-4539-cab1-bbce4af82890",
        "colab": {
          "base_uri": "https://localhost:8080/",
          "height": 227
        }
      },
      "source": [
        "rec_mayor = df_retail.groupby(['Año-Trimestre','InvoiceNo'])[['Total']].sum()\n",
        "\n",
        "rec_mayor= rec_mayor.sort_values(by=['Año-Trimestre','Total'], ascending=False)\n",
        "\n",
        "rec_mayor.loc[rec_mayor.groupby([\"Año-Trimestre\"])[\"Total\"].idxmax()]"
      ],
      "execution_count": null,
      "outputs": [
        {
          "output_type": "execute_result",
          "data": {
            "text/html": [
              "<div>\n",
              "<style scoped>\n",
              "    .dataframe tbody tr th:only-of-type {\n",
              "        vertical-align: middle;\n",
              "    }\n",
              "\n",
              "    .dataframe tbody tr th {\n",
              "        vertical-align: top;\n",
              "    }\n",
              "\n",
              "    .dataframe thead th {\n",
              "        text-align: right;\n",
              "    }\n",
              "</style>\n",
              "<table border=\"1\" class=\"dataframe\">\n",
              "  <thead>\n",
              "    <tr style=\"text-align: right;\">\n",
              "      <th></th>\n",
              "      <th></th>\n",
              "      <th>Total</th>\n",
              "    </tr>\n",
              "    <tr>\n",
              "      <th>Año-Trimestre</th>\n",
              "      <th>InvoiceNo</th>\n",
              "      <th></th>\n",
              "    </tr>\n",
              "  </thead>\n",
              "  <tbody>\n",
              "    <tr>\n",
              "      <th>2010-Q4</th>\n",
              "      <th>537659</th>\n",
              "      <td>15885.49</td>\n",
              "    </tr>\n",
              "    <tr>\n",
              "      <th>2011-Q1</th>\n",
              "      <th>541431</th>\n",
              "      <td>77183.60</td>\n",
              "    </tr>\n",
              "    <tr>\n",
              "      <th>2011-Q2</th>\n",
              "      <th>556444</th>\n",
              "      <td>38970.00</td>\n",
              "    </tr>\n",
              "    <tr>\n",
              "      <th>2011-Q3</th>\n",
              "      <th>567423</th>\n",
              "      <td>31698.16</td>\n",
              "    </tr>\n",
              "    <tr>\n",
              "      <th>2011-Q4</th>\n",
              "      <th>581483</th>\n",
              "      <td>168469.60</td>\n",
              "    </tr>\n",
              "  </tbody>\n",
              "</table>\n",
              "</div>"
            ],
            "text/plain": [
              "                             Total\n",
              "Año-Trimestre InvoiceNo           \n",
              "2010-Q4       537659      15885.49\n",
              "2011-Q1       541431      77183.60\n",
              "2011-Q2       556444      38970.00\n",
              "2011-Q3       567423      31698.16\n",
              "2011-Q4       581483     168469.60"
            ]
          },
          "metadata": {
            "tags": []
          },
          "execution_count": 26
        }
      ]
    },
    {
      "cell_type": "markdown",
      "metadata": {
        "id": "50eVp8wJgII2"
      },
      "source": [
        "7. ¿Cuál es el cliente que mas compras ha realizado en el historico de la tienda?"
      ]
    },
    {
      "cell_type": "code",
      "metadata": {
        "id": "zSEcv0NZauyc",
        "outputId": "4e83c7b0-fb57-4802-e121-a984b6da13e1",
        "colab": {
          "base_uri": "https://localhost:8080/",
          "height": 77
        }
      },
      "source": [
        "\n",
        "df_factura = df_retail[['InvoiceNo','CustomerID']].drop_duplicates()\n",
        "df_cliente=df_factura.groupby(['CustomerID'],as_index=False).agg({\"InvoiceNo\":\"count\"})\n",
        "df_cliente = df_cliente.sort_values('InvoiceNo', ascending = False)\n",
        "df_cliente.head(1)\n",
        "\n"
      ],
      "execution_count": null,
      "outputs": [
        {
          "output_type": "execute_result",
          "data": {
            "text/html": [
              "<div>\n",
              "<style scoped>\n",
              "    .dataframe tbody tr th:only-of-type {\n",
              "        vertical-align: middle;\n",
              "    }\n",
              "\n",
              "    .dataframe tbody tr th {\n",
              "        vertical-align: top;\n",
              "    }\n",
              "\n",
              "    .dataframe thead th {\n",
              "        text-align: right;\n",
              "    }\n",
              "</style>\n",
              "<table border=\"1\" class=\"dataframe\">\n",
              "  <thead>\n",
              "    <tr style=\"text-align: right;\">\n",
              "      <th></th>\n",
              "      <th>CustomerID</th>\n",
              "      <th>InvoiceNo</th>\n",
              "    </tr>\n",
              "  </thead>\n",
              "  <tbody>\n",
              "    <tr>\n",
              "      <th>326</th>\n",
              "      <td>12748.0</td>\n",
              "      <td>210</td>\n",
              "    </tr>\n",
              "  </tbody>\n",
              "</table>\n",
              "</div>"
            ],
            "text/plain": [
              "     CustomerID  InvoiceNo\n",
              "326     12748.0        210"
            ]
          },
          "metadata": {
            "tags": []
          },
          "execution_count": 121
        }
      ]
    }
  ]
}
